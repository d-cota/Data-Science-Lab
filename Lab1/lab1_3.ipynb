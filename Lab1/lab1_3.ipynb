{
 "cells": [
  {
   "cell_type": "code",
   "execution_count": 5,
   "metadata": {
    "collapsed": true,
    "pycharm": {
     "name": "#%% 2.3.1 Load the previously downloaded MNIST dataset\n"
    }
   },
   "outputs": [
    {
     "name": "stdout",
     "output_type": "stream",
     "text": [
      "                            \n",
      "                            \n",
      "                            \n",
      "          ..*##*.           \n",
      "         *#######           \n",
      "        *####**##.          \n",
      "        ###    ##*          \n",
      "       .##    .##.          \n",
      "              ###.          \n",
      "             .###           \n",
      "            .###            \n",
      "            *##*            \n",
      "           *##*             \n",
      "           ###              \n",
      "          ###*              \n",
      "         .##*               \n",
      "         ###*               \n",
      "        *##*                \n",
      "        ###                 \n",
      "        ###           ****  \n",
      "        ########***#######. \n",
      "        *##############*..  \n",
      "         ....*###*..        \n",
      "                            \n",
      "                            \n",
      "                            \n",
      "                            \n",
      "                            \n"
     ]
    },
    {
     "ename": "ValueError",
     "evalue": "invalid literal for int() with base 10: ''",
     "output_type": "error",
     "traceback": [
      "\u001B[1;31m---------------------------------------------------------------------------\u001B[0m",
      "\u001B[1;31mValueError\u001B[0m                                Traceback (most recent call last)",
      "\u001B[1;32m<ipython-input-5-4dd7f149cce7>\u001B[0m in \u001B[0;36m<module>\u001B[1;34m\u001B[0m\n\u001B[0;32m     13\u001B[0m \u001B[1;33m\u001B[0m\u001B[0m\n\u001B[0;32m     14\u001B[0m \u001B[1;32mwhile\u001B[0m \u001B[1;32mTrue\u001B[0m\u001B[1;33m:\u001B[0m\u001B[1;33m\u001B[0m\u001B[1;33m\u001B[0m\u001B[0m\n\u001B[1;32m---> 15\u001B[1;33m     \u001B[0mk\u001B[0m \u001B[1;33m=\u001B[0m \u001B[0mint\u001B[0m\u001B[1;33m(\u001B[0m\u001B[0minput\u001B[0m\u001B[1;33m(\u001B[0m\u001B[1;34m'choose a number from 0 to 10000: '\u001B[0m\u001B[1;33m)\u001B[0m\u001B[1;33m)\u001B[0m\u001B[1;33m\u001B[0m\u001B[1;33m\u001B[0m\u001B[0m\n\u001B[0m\u001B[0;32m     16\u001B[0m     \u001B[0mrow\u001B[0m \u001B[1;33m=\u001B[0m \u001B[0miter\u001B[0m\u001B[1;33m(\u001B[0m\u001B[0mwrapper\u001B[0m\u001B[1;33m[\u001B[0m\u001B[0mk\u001B[0m\u001B[1;33m]\u001B[0m\u001B[1;33m)\u001B[0m\u001B[1;33m\u001B[0m\u001B[1;33m\u001B[0m\u001B[0m\n\u001B[0;32m     17\u001B[0m     \u001B[0mnext\u001B[0m\u001B[1;33m(\u001B[0m\u001B[0mrow\u001B[0m\u001B[1;33m)\u001B[0m\u001B[1;33m\u001B[0m\u001B[1;33m\u001B[0m\u001B[0m\n",
      "\u001B[1;31mValueError\u001B[0m: invalid literal for int() with base 10: ''"
     ]
    }
   ],
   "source": [
    "import csv\n",
    "\n",
    "def tosign(x):\n",
    "    if 0 <= x < 64: return ' '\n",
    "    elif 64 <= x < 128: return '.'\n",
    "    elif 128 <= x < 192: return '*'\n",
    "    else: return '#'\n",
    "\n",
    "wrapper = []\n",
    "with open('mnist_test.csv') as f:\n",
    "    for row in csv.reader(f):\n",
    "        wrapper.append(row)\n",
    "\n",
    "while True:\n",
    "    k = int(input('choose a number from 0 to 10000: '))\n",
    "    row = iter(wrapper[k])\n",
    "    next(row)\n",
    "    for i in range(0,28):\n",
    "        for y in range(0,28):\n",
    "            x = int(next(row))\n",
    "            print(tosign(x), end='')\n",
    "        print('')\n",
    "\n",
    "\n",
    "\n",
    "\n"
   ]
  }
 ],
 "metadata": {
  "kernelspec": {
   "display_name": "Python 3",
   "language": "python",
   "name": "python3"
  },
  "language_info": {
   "codemirror_mode": {
    "name": "ipython",
    "version": 2
   },
   "file_extension": ".py",
   "mimetype": "text/x-python",
   "name": "python",
   "nbconvert_exporter": "python",
   "pygments_lexer": "ipython2",
   "version": "2.7.6"
  }
 },
 "nbformat": 4,
 "nbformat_minor": 0
}