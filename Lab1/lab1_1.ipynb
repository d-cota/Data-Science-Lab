{
 "cells": [
  {
   "cell_type": "code",
   "execution_count": null,
   "outputs": [],
   "source": [],
   "metadata": {
    "collapsed": false,
    "pycharm": {
     "name": "#%% 2.1.1\n"
    }
   }
  },
  {
   "cell_type": "code",
   "execution_count": null,
   "outputs": [],
   "source": [
    "import csv\n",
    "\n",
    "wrapper = []\n",
    "with open('iris.data') as f:\n",
    "    for rows in csv.reader(f):\n",
    "        temp = []\n",
    "        [temp.append(item) if item[0].isalpha() else temp.append(float(item)) for item in rows]\n",
    "        wrapper.append(temp)\n",
    "\n",
    "wrapper"
   ],
   "metadata": {
    "collapsed": false,
    "pycharm": {
     "name": "#%% Load the previously downloaded Iris dataset as a list of list\n"
    }
   }
  },
  {
   "cell_type": "code",
   "execution_count": null,
   "outputs": [],
   "source": [],
   "metadata": {
    "collapsed": false,
    "pycharm": {
     "name": "#%% 2.1.2\n"
    }
   }
  },
  {
   "cell_type": "code",
   "execution_count": 13,
   "outputs": [
    {
     "data": {
      "text/plain": "(5.843333333333335, 0.3405611111111111)"
     },
     "execution_count": 13,
     "metadata": {},
     "output_type": "execute_result"
    }
   ],
   "source": [
    "n = len(wrapper)\n",
    "sl_sum = sw_sum = pl_sum = pw_sum = 0\n",
    "\n",
    "for row in wrapper:\n",
    "    sl_sum += row[0]\n",
    "    sw_sum += row[1]\n",
    "    pl_sum += row[2]\n",
    "    pw_sum += row[3]\n",
    "\n",
    "sl_mean = sl_sum / n\n",
    "sw_mean = sw_sum / n\n",
    "pl_mean = pl_sum / n\n",
    "pw_mean = pw_sum / n\n",
    "\n",
    "sl_sum = sw_sum = pl_sum = pw_sum = 0\n",
    "\n",
    "for row in wrapper:\n",
    "    sl_sum += (row[0] - sl_mean)**2\n",
    "    sw_sum += (row[1] - sw_mean)**2\n",
    "    pl_sum += (row[2] - pl_mean)**2\n",
    "    pw_sum += (row[3] - pw_mean)**2\n",
    "\n",
    "sl_dev = (sl_sum / n)** 1/2\n",
    "sw_dev = (sw_sum / n)** 1/2\n",
    "pl_dev = (pl_sum / n)** 1/2\n",
    "pw_dev = (pw_sum / n)** 1/2\n",
    "\n",
    "sl_mean, sl_dev"
   ],
   "metadata": {
    "collapsed": false,
    "pycharm": {
     "name": "#%% Compute and print the mean and the standard deviation for each of the 4 measurement columns(i.e. sepal length and width, petal length and width\n"
    }
   }
  },
  {
   "cell_type": "code",
   "execution_count": null,
   "outputs": [],
   "source": [],
   "metadata": {
    "collapsed": false,
    "pycharm": {
     "name": "#%% 2.1.3\n"
    }
   }
  },
  {
   "cell_type": "code",
   "execution_count": 14,
   "outputs": [
    {
     "data": {
      "text/plain": "{'Iris-setosa': [[0, 5.005999999999999, 0.060881999999999964],\n  [0, 3.4180000000000006, 0.071138],\n  [0, 1.464, 0.014752000000000005],\n  50],\n 'Iris-versicolor': [[0, 5.936, 0.13055200000000006],\n  [0, 2.7700000000000005, 0.04825000000000001],\n  [0, 4.26, 0.10820000000000006],\n  50],\n 'Iris-virginica': [[0, 6.587999999999998, 0.19812799999999997],\n  [0, 2.9739999999999998, 0.050962000000000035],\n  [0, 5.552, 0.1492480000000001],\n  50]}"
     },
     "execution_count": 14,
     "metadata": {},
     "output_type": "execute_result"
    }
   ],
   "source": [
    "flowers = {'Iris-setosa': [[0.0, 0.0, 0.0], [0.0, 0.0, 0.0], [0.0, 0.0, 0.0], 0], 'Iris-versicolor': [[0.0, 0.0, 0.0], [0.0, 0.0, 0.0], [0.0, 0.0, 0.0], 0], 'Iris-virginica': [[0.0, 0.0, 0.0], [0.0, 0.0, 0.0], [0.0, 0.0, 0.0], 0]}\n",
    "\n",
    "for row in wrapper:\n",
    "    key = row[-1]\n",
    "    flowers[key][-1] += 1\n",
    "    for i in range(0,3):\n",
    "        flowers[key][i][0] += row[i]\n",
    "\n",
    "for key in flowers:\n",
    "    n = flowers[key][-1]\n",
    "    for i in range(0,3):\n",
    "        flowers[key][i][1] = flowers[key][i][0] / n\n",
    "        flowers[key][i][0] = 0\n",
    "\n",
    "for row in wrapper:\n",
    "    key = row[-1]\n",
    "    for i in range(0,3):\n",
    "        flowers[key][i][0] += (row[i] - flowers[key][i][1])**2\n",
    "\n",
    "for key in flowers:\n",
    "    n = flowers[key][-1]\n",
    "    for i in range(0,3):\n",
    "        flowers[key][i][2] = (flowers[key][i][0] / n)** 1/2\n",
    "        flowers[key][i][0] = 0\n",
    "\n",
    "flowers"
   ],
   "metadata": {
    "collapsed": false,
    "pycharm": {
     "name": "#%% Compute and print the mean and the standard deviation for each of the 4 measurement columns,separately for each of the three Iris species (versicolor, virginica and setosa\n"
    }
   }
  }
 ],
 "metadata": {
  "kernelspec": {
   "display_name": "Python 3",
   "language": "python",
   "name": "python3"
  },
  "language_info": {
   "codemirror_mode": {
    "name": "ipython",
    "version": 2
   },
   "file_extension": ".py",
   "mimetype": "text/x-python",
   "name": "python",
   "nbconvert_exporter": "python",
   "pygments_lexer": "ipython2",
   "version": "2.7.6"
  }
 },
 "nbformat": 4,
 "nbformat_minor": 0
}