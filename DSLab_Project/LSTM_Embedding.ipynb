{
 "cells": [
  {
   "cell_type": "code",
   "execution_count": 1,
   "metadata": {
    "collapsed": true
   },
   "outputs": [
    {
     "name": "stderr",
     "output_type": "stream",
     "text": [
      "[nltk_data] Downloading package wordnet to\n",
      "[nltk_data]     C:\\Users\\david\\AppData\\Roaming\\nltk_data...\n",
      "[nltk_data]   Package wordnet is already up-to-date!\n",
      "[nltk_data] Downloading package stopwords to\n",
      "[nltk_data]     C:\\Users\\david\\AppData\\Roaming\\nltk_data...\n",
      "[nltk_data]   Package stopwords is already up-to-date!\n",
      "[nltk_data] Downloading package punkt to\n",
      "[nltk_data]     C:\\Users\\david\\AppData\\Roaming\\nltk_data...\n",
      "[nltk_data]   Package punkt is already up-to-date!\n"
     ]
    }
   ],
   "source": [
    "\n",
    "\n",
    "import pandas as pd\n",
    "import matplotlib.pyplot as plt\n",
    "import seaborn as sns\n",
    "import numpy as np\n",
    "\n",
    "from string import punctuation\n",
    "from sklearn.feature_extraction.text import CountVectorizer\n",
    "from nltk.stem import SnowballStemmer\n",
    "from nltk.corpus import stopwords as sw\n",
    "from nltk.tokenize import TweetTokenizer\n",
    "import nltk\n",
    "import re\n",
    "import string\n",
    "nltk.download('wordnet')\n",
    "nltk.download('stopwords')\n",
    "nltk.download('punkt')\n",
    "\n",
    "FEATURE_LIST = ['created_at', 'id', 'full_text', 'user', 'retweet_count', 'favorite_count', 'coordinates', 'place', 'class']\n",
    "\n",
    "stopwords = sw.words('english') + [\"'d\", \"'ll\", \"'re\", \"'s\", \"'ve\", 'doe', 'ha', \"n't\", 'sha', 'wa', 'wo']"
   ]
  },
  {
   "cell_type": "code",
   "execution_count": 2,
   "outputs": [],
   "source": [
    "\n",
    "training_set = pd.read_json('development.jsonl', lines=True)\n",
    "training_set = training_set[FEATURE_LIST]\n",
    "\n",
    "test_set = pd.read_json('evaluation.jsonl', lines=True)"
   ],
   "metadata": {
    "collapsed": false,
    "pycharm": {
     "name": "#%%\n"
    }
   }
  },
  {
   "cell_type": "code",
   "execution_count": 8,
   "outputs": [],
   "source": [
    "def transform(text):\n",
    "\n",
    "    if pd.isnull(text):\n",
    "        return ''\n",
    "\n",
    "    if type(text) != str or text=='':\n",
    "        return ''\n",
    "\n",
    "    # Clean the text\n",
    "    text = re.sub(\"\\'s\", \" \", text) # we have cases like \"Sam is\" or \"Sam's\" (i.e. his) these two cases aren't separable, I choose to compromise are kill \"'s\" directly\n",
    "    text = re.sub(\" whats \", \" what is \", text, flags=re.IGNORECASE)\n",
    "    text = re.sub(\"\\'ve\", \" have \", text)\n",
    "    text = re.sub(\"can't\", \"can not\", text)\n",
    "    text = re.sub(\"n't\", \" not \", text)\n",
    "    text = re.sub(\"i'm\", \"i am\", text, flags=re.IGNORECASE)\n",
    "    text = re.sub(\"\\'re\", \" are \", text)\n",
    "    text = re.sub(\"\\'d\", \" would \", text)\n",
    "    text = re.sub(\"\\'ll\", \" will \", text)\n",
    "    text = re.sub(\"e\\.g\\.\", \" eg \", text, flags=re.IGNORECASE)\n",
    "    text = re.sub(\"b\\.g\\.\", \" bg \", text, flags=re.IGNORECASE)\n",
    "    text = re.sub(\"(\\d+)(kK)\", \" \\g<1>000 \", text)\n",
    "    text = re.sub(\"e-mail\", \" email \", text, flags=re.IGNORECASE)\n",
    "    text = re.sub(\"(the[\\s]+|The[\\s]+)?U\\.S\\.A\\.\", \" America \", text, flags=re.IGNORECASE)\n",
    "    text = re.sub(\"(the[\\s]+|The[\\s]+)?United State(s)?\", \" America \", text, flags=re.IGNORECASE)\n",
    "    text = re.sub(\"\\(s\\)\", \" \", text, flags=re.IGNORECASE)\n",
    "    text = re.sub(\"[c-fC-F]\\:\\/\", \" disk \", text)\n",
    "\n",
    "    text = re.sub(\"#{2,3}\", \"#\", text)\n",
    "    text = re.sub(\"#2020prot.*\", \"#2020protest\", text, flags=re.IGNORECASE)\n",
    "    text = re.sub(\"#abolish.*police\", \"#abolishpolice\", text, flags=re.IGNORECASE)\n",
    "    text = re.sub(\"#acab.*\", \"#\", text, flags=re.IGNORECASE)\n",
    "    text = re.sub(\"#ahmauda.*y\", \"#ahmaudaubrey\", text, flags=re.IGNORECASE)\n",
    "    text = re.sub(\".*black_*li[f,v]e[s]*_*m\\w*\", \"#blacklivesmatter\", text, flags=re.IGNORECASE)\n",
    "    text = re.sub(\".*al{1,4}_*i[f,v]e[s]*_*m\\w*\", \"#alllivesmatter\", text, flags=re.IGNORECASE)\n",
    "\n",
    "\n",
    "    # remove comma between numbers, i.e. 15,000 -> 15000\n",
    "    text = re.sub('(?<=[0-9])\\,(?=[0-9])', \"\", text)\n",
    "\n",
    "    punct = punctuation.replace('@','').replace('#', '')\n",
    "    # Remove punctuation from text\n",
    "    text = ''.join([c for c in text if c not in punct])\n",
    "\n",
    "    # Return a list of words\n",
    "    return text\n",
    "\n",
    "class CustomTokenizer(object):\n",
    "    def __init__(self, tokenizer=TweetTokenizer(preserve_case=False)):\n",
    "        self.tokenizer = tokenizer\n",
    "\n",
    "    def preprocess(self, tweet):\n",
    "        re_digit = re.compile(\"[0-9]\") # regular expression to filter digit tokens\n",
    "        re_emoji = re.compile(\"[\"\n",
    "         u\"\\U0001F600-\\U0001F64F\"  # emoticons\n",
    "         u\"\\U0001F300-\\U0001F5FF\"  # symbols & pictographs\n",
    "         u\"\\U0001F680-\\U0001F6FF\"  # transport & map symbols\n",
    "         u\"\\U0001F1E0-\\U0001F1FF\"  # flags (iOS)\n",
    "         u\"\\U00002702-\\U000027B0\"\n",
    "         u\"\\U000024C2-\\U0001F251\"\n",
    "         \"]+\", flags=re.UNICODE)\n",
    "\n",
    "        tweet = transform(tweet)\n",
    "        tokens = self.tokenizer.tokenize(tweet)\n",
    "        transformed_tweet = []\n",
    "\n",
    "        for token in tokens:\n",
    "            if  re_emoji.match(token) or (\n",
    "            token not in punctuation\n",
    "            and len(token) > 1\n",
    "            ):\n",
    "                transformed_tweet.append(token)\n",
    "\n",
    "        return transformed_tweet"
   ],
   "metadata": {
    "collapsed": false,
    "pycharm": {
     "name": "#%%\n"
    }
   }
  },
  {
   "cell_type": "code",
   "execution_count": 10,
   "outputs": [
    {
     "data": {
      "text/plain": "['@bawdzisnaughty',\n '@sgfgjay',\n '@radioshadilay',\n 'you',\n 'are',\n 'little',\n 'behind',\n 'the',\n 'curve',\n 'wednesday',\n 'wednesday']"
     },
     "execution_count": 10,
     "metadata": {},
     "output_type": "execute_result"
    }
   ],
   "source": [
    "X_train = []\n",
    "tweets = list(training_set[\"full_text\"])\n",
    "\n",
    "tokenizer = CustomTokenizer()\n",
    "\n",
    "for t in tweets:\n",
    "    X_train.append(tokenizer.preprocess(t))\n",
    "\n",
    "X_train[0]"
   ],
   "metadata": {
    "collapsed": false,
    "pycharm": {
     "name": "#%%\n"
    }
   }
  }
 ],
 "metadata": {
  "kernelspec": {
   "display_name": "Python 3",
   "language": "python",
   "name": "python3"
  },
  "language_info": {
   "codemirror_mode": {
    "name": "ipython",
    "version": 2
   },
   "file_extension": ".py",
   "mimetype": "text/x-python",
   "name": "python",
   "nbconvert_exporter": "python",
   "pygments_lexer": "ipython2",
   "version": "2.7.6"
  }
 },
 "nbformat": 4,
 "nbformat_minor": 0
}