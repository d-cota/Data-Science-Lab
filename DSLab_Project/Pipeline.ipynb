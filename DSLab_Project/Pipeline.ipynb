{
 "cells": [
  {
   "cell_type": "code",
   "execution_count": 2,
   "metadata": {
    "collapsed": true
   },
   "outputs": [
    {
     "name": "stderr",
     "output_type": "stream",
     "text": [
      "[nltk_data] Downloading package wordnet to\n",
      "[nltk_data]     C:\\Users\\david\\AppData\\Roaming\\nltk_data...\n",
      "[nltk_data]   Package wordnet is already up-to-date!\n",
      "[nltk_data] Downloading package stopwords to\n",
      "[nltk_data]     C:\\Users\\david\\AppData\\Roaming\\nltk_data...\n",
      "[nltk_data]   Package stopwords is already up-to-date!\n",
      "[nltk_data] Downloading package punkt to\n",
      "[nltk_data]     C:\\Users\\david\\AppData\\Roaming\\nltk_data...\n",
      "[nltk_data]   Package punkt is already up-to-date!\n"
     ]
    }
   ],
   "source": [
    "\n",
    "import pandas as pd\n",
    "import matplotlib.pyplot as plt\n",
    "import seaborn as sns\n",
    "import numpy as np\n",
    "from sklearn import preprocessing\n",
    "\n",
    "from sklearn.cluster import KMeans\n",
    "from sklearn.ensemble import RandomForestClassifier\n",
    "from sklearn.feature_selection import SelectFromModel\n",
    "from sklearn.model_selection import train_test_split\n",
    "from sklearn.linear_model import SGDClassifier, RidgeClassifier, Perceptron, PassiveAggressiveClassifier, LinearRegression\n",
    "from sklearn.svm import LinearSVC\n",
    "from sklearn.metrics import accuracy_score, make_scorer\n",
    "from sklearn.pipeline import Pipeline\n",
    "from sklearn.model_selection import GridSearchCV\n",
    "from sklearn.naive_bayes import MultinomialNB, ComplementNB, BernoulliNB\n",
    "from sklearn.neighbors import KNeighborsClassifier, NearestCentroid\n",
    "from sklearn.base import BaseEstimator\n",
    "from wordcloud import WordCloud\n",
    "\n",
    "from sklearn.feature_extraction.text import CountVectorizer, TfidfVectorizer\n",
    "from sklearn.decomposition import TruncatedSVD\n",
    "from nltk.stem.wordnet import WordNetLemmatizer\n",
    "from nltk.corpus import stopwords as sw\n",
    "from nltk.tokenize import TweetTokenizer\n",
    "import nltk\n",
    "import re\n",
    "import string\n",
    "nltk.download('wordnet')\n",
    "nltk.download('stopwords')\n",
    "nltk.download('punkt')\n",
    "\n",
    "%matplotlib inline\n",
    "sns.set_style(\"white\")\n",
    "\n",
    "FEATURE_LIST = ['created_at', 'id', 'full_text', 'user', 'retweet_count', 'favorite_count', 'coordinates', 'place', 'class']\n",
    "N_BINS = 18\n",
    "IMAGE_PATH = 'images/'\n",
    "\n",
    "stopwords = sw.words('english') + [\"'d\", \"'ll\", \"'re\", \"'s\", \"'ve\", 'doe', 'ha', \"n't\", 'sha', 'wa', 'wo']\n",
    "\n"
   ]
  },
  {
   "cell_type": "code",
   "execution_count": 39,
   "outputs": [],
   "source": [
    "from nltk.stem.porter import PorterStemmer\n",
    "class LemmaTokenizer(object):\n",
    "    def __init__(self):\n",
    "        self.lemmatizer = WordNetLemmatizer()\n",
    "        self.tokenizer = TweetTokenizer()\n",
    "\n",
    "    def __call__(self, document):\n",
    "        lemmas = []\n",
    "        re_digit = re.compile(\"[0-9]\") # regular expression to filter digit tokens\n",
    "        re_emoji = re.compile(\"[\"\n",
    "         u\"\\U0001F600-\\U0001F64F\"  # emoticons\n",
    "         u\"\\U0001F300-\\U0001F5FF\"  # symbols & pictographs\n",
    "         u\"\\U0001F680-\\U0001F6FF\"  # transport & map symbols\n",
    "         u\"\\U0001F1E0-\\U0001F1FF\"  # flags (iOS)\n",
    "         u\"\\U00002702-\\U000027B0\"\n",
    "         u\"\\U000024C2-\\U0001F251\"\n",
    "         \"]+\", flags=re.UNICODE)\n",
    "\n",
    "        for t in self.tokenizer.tokenize(document):\n",
    "            t.strip()\n",
    "            lemma = self.lemmatizer.lemmatize(t)\n",
    "\n",
    "            # remove tokens with only punctuation\n",
    "            if lemma not in string.punctuation:\n",
    "                lemmas.append(lemma)\n",
    "\n",
    "        return lemmas\n",
    "\n",
    "class ClfSwitcher(BaseEstimator):\n",
    "\n",
    "    def __init__(\n",
    "        self,\n",
    "        estimator = SGDClassifier(),\n",
    "    ):\n",
    "        \"\"\"\n",
    "        A Custom BaseEstimator that can switch between classifiers.\n",
    "        :param estimator: sklearn object - The classifier\n",
    "        \"\"\"\n",
    "\n",
    "        self.estimator = estimator\n",
    "\n",
    "\n",
    "    def fit(self, X, y=None, **kwargs):\n",
    "        self.estimator.fit(X, y)\n",
    "        return self\n",
    "\n",
    "\n",
    "    def predict(self, X, y=None):\n",
    "        return self.estimator.predict(X)\n",
    "\n",
    "\n",
    "    def predict_proba(self, X):\n",
    "        return self.estimator.predict_proba(X)\n",
    "\n",
    "\n",
    "    def score(self, X, y):\n",
    "        return self.estimator.score(X, y)"
   ],
   "metadata": {
    "collapsed": false,
    "pycharm": {
     "name": "#%%\n"
    }
   }
  },
  {
   "cell_type": "code",
   "execution_count": 17,
   "outputs": [],
   "source": [
    "training_set = pd.read_json('development.jsonl', lines=True)\n",
    "training_set = training_set[FEATURE_LIST]\n",
    "\n",
    "test_set = pd.read_json('evaluation.jsonl', lines=True)"
   ],
   "metadata": {
    "collapsed": false,
    "pycharm": {
     "name": "#%%\n"
    }
   }
  },
  {
   "cell_type": "code",
   "execution_count": 81,
   "outputs": [],
   "source": [
    "tweets = training_set[\"full_text\"].tolist()\n",
    "desc_list = [item['description'] for item in training_set[\"user\"]]\n",
    "\n",
    "test_tweets = test_set[\"full_text\"].tolist()\n",
    "test_desc_list = [item['description'] for item in test_set[\"user\"]]\n",
    "\n",
    "X_train = [' '.join(z) for z in zip(tweets, desc_list)]\n",
    "X_test = [' '.join(z) for z in zip(test_tweets, test_desc_list)]"
   ],
   "metadata": {
    "collapsed": false,
    "pycharm": {
     "name": "#%%\n"
    }
   }
  },
  {
   "cell_type": "code",
   "execution_count": 94,
   "outputs": [
    {
     "name": "stdout",
     "output_type": "stream",
     "text": [
      "Fitting 3 folds for each of 24 candidates, totalling 72 fits\n"
     ]
    },
    {
     "name": "stderr",
     "output_type": "stream",
     "text": [
      "[Parallel(n_jobs=-1)]: Using backend LokyBackend with 8 concurrent workers.\n",
      "[Parallel(n_jobs=-1)]: Done   2 tasks      | elapsed:  2.0min\n",
      "[Parallel(n_jobs=-1)]: Done  56 tasks      | elapsed: 14.3min\n",
      "[Parallel(n_jobs=-1)]: Done  72 out of  72 | elapsed: 18.3min remaining:    0.0s\n",
      "[Parallel(n_jobs=-1)]: Done  72 out of  72 | elapsed: 18.3min finished\n"
     ]
    },
    {
     "data": {
      "text/plain": "{'mean_fit_time': array([ 82.05691417, 101.62800749, 109.83191037,  71.70315385,\n         83.54212658,  96.63146345,  71.49457192,  81.90162865,\n         97.45257179,  72.1416827 ,  85.6300536 , 105.78156662,\n         77.29465564,  79.87803253,  95.91624149,  70.90332437,\n         85.56139779,  95.33551391,  70.57609447,  87.73535514,\n        107.53691037,  76.10936252,  87.95251163,  86.70856158]),\n 'std_fit_time': array([ 0.10421577,  2.30089154, 11.07154024,  0.60771495,  0.85514258,\n         1.69544298,  0.65355104,  1.12156968,  1.01598725,  0.47904903,\n         3.82972276,  2.06934859,  3.20967891,  0.22906952,  0.91455907,\n         0.35083433,  0.76669143,  1.3533195 ,  1.9402948 ,  0.29840547,\n         3.84852318,  1.07212048,  2.04699308,  4.78193652]),\n 'mean_score_time': array([33.71030664, 32.69957749, 33.95396765, 27.75951298, 30.6884199 ,\n        33.68359462, 28.17405017, 32.56996695, 32.39769642, 28.1308376 ,\n        34.6991214 , 32.4441061 , 28.39764826, 31.5356613 , 35.40082113,\n        30.82717689, 30.16312647, 34.4451561 , 28.05655225, 33.74497398,\n        35.55547373, 32.50530219, 24.70137143, 15.02474459]),\n 'std_score_time': array([0.08028579, 0.26234975, 1.43386423, 0.2817151 , 0.5126754 ,\n        0.75954744, 0.87168449, 0.72882006, 0.3970701 , 0.8824762 ,\n        1.99552722, 0.40922935, 0.36387735, 0.68916946, 0.16750402,\n        1.20160927, 1.13221773, 0.64927703, 0.38479299, 0.40326005,\n        0.50202403, 1.43203986, 2.07937878, 0.92277101]),\n 'param_clf__estimator': masked_array(data=[SGDClassifier(alpha=1e-05, random_state=42),\n                    SGDClassifier(alpha=1e-05, random_state=42),\n                    SGDClassifier(alpha=1e-05, random_state=42),\n                    SGDClassifier(alpha=1e-05, random_state=42),\n                    SGDClassifier(alpha=1e-05, random_state=42),\n                    SGDClassifier(alpha=1e-05, random_state=42),\n                    SGDClassifier(alpha=1e-05, random_state=42),\n                    SGDClassifier(alpha=1e-05, random_state=42),\n                    SGDClassifier(alpha=1e-05, random_state=42),\n                    SGDClassifier(alpha=1e-05, random_state=42),\n                    SGDClassifier(alpha=1e-05, random_state=42),\n                    SGDClassifier(alpha=1e-05, random_state=42),\n                    SGDClassifier(alpha=1e-05, random_state=42),\n                    SGDClassifier(alpha=1e-05, random_state=42),\n                    SGDClassifier(alpha=1e-05, random_state=42),\n                    SGDClassifier(alpha=1e-05, random_state=42),\n                    SGDClassifier(alpha=1e-05, random_state=42),\n                    SGDClassifier(alpha=1e-05, random_state=42),\n                    SGDClassifier(alpha=1e-05, random_state=42),\n                    SGDClassifier(alpha=1e-05, random_state=42),\n                    SGDClassifier(alpha=1e-05, random_state=42),\n                    SGDClassifier(alpha=1e-05, random_state=42),\n                    SGDClassifier(alpha=1e-05, random_state=42),\n                    SGDClassifier(alpha=1e-05, random_state=42)],\n              mask=[False, False, False, False, False, False, False, False,\n                    False, False, False, False, False, False, False, False,\n                    False, False, False, False, False, False, False, False],\n        fill_value='?',\n             dtype=object),\n 'param_clf__estimator__alpha': masked_array(data=[1e-05, 1e-05, 1e-05, 1e-05, 1e-05, 1e-05, 1e-05, 1e-05,\n                    1e-05, 1e-05, 1e-05, 1e-05, 1e-06, 1e-06, 1e-06, 1e-06,\n                    1e-06, 1e-06, 1e-06, 1e-06, 1e-06, 1e-06, 1e-06, 1e-06],\n              mask=[False, False, False, False, False, False, False, False,\n                    False, False, False, False, False, False, False, False,\n                    False, False, False, False, False, False, False, False],\n        fill_value='?',\n             dtype=object),\n 'param_clf__estimator__loss': masked_array(data=['hinge', 'hinge', 'hinge', 'hinge', 'hinge', 'hinge',\n                    'log', 'log', 'log', 'log', 'log', 'log', 'hinge',\n                    'hinge', 'hinge', 'hinge', 'hinge', 'hinge', 'log',\n                    'log', 'log', 'log', 'log', 'log'],\n              mask=[False, False, False, False, False, False, False, False,\n                    False, False, False, False, False, False, False, False,\n                    False, False, False, False, False, False, False, False],\n        fill_value='?',\n             dtype=object),\n 'param_clf__estimator__tol': masked_array(data=[0.01, 0.01, 0.01, 0.001, 0.001, 0.001, 0.01, 0.01,\n                    0.01, 0.001, 0.001, 0.001, 0.01, 0.01, 0.01, 0.001,\n                    0.001, 0.001, 0.01, 0.01, 0.01, 0.001, 0.001, 0.001],\n              mask=[False, False, False, False, False, False, False, False,\n                    False, False, False, False, False, False, False, False,\n                    False, False, False, False, False, False, False, False],\n        fill_value='?',\n             dtype=object),\n 'param_tfidf__min_df': masked_array(data=[1, 1, 1, 1, 1, 1, 1, 1, 1, 1, 1, 1, 1, 1, 1, 1, 1, 1,\n                    1, 1, 1, 1, 1, 1],\n              mask=[False, False, False, False, False, False, False, False,\n                    False, False, False, False, False, False, False, False,\n                    False, False, False, False, False, False, False, False],\n        fill_value='?',\n             dtype=object),\n 'param_tfidf__ngram_range': masked_array(data=[(1, 3), (1, 4), (1, 5), (1, 3), (1, 4), (1, 5), (1, 3),\n                    (1, 4), (1, 5), (1, 3), (1, 4), (1, 5), (1, 3), (1, 4),\n                    (1, 5), (1, 3), (1, 4), (1, 5), (1, 3), (1, 4), (1, 5),\n                    (1, 3), (1, 4), (1, 5)],\n              mask=[False, False, False, False, False, False, False, False,\n                    False, False, False, False, False, False, False, False,\n                    False, False, False, False, False, False, False, False],\n        fill_value='?',\n             dtype=object),\n 'params': [{'clf__estimator': SGDClassifier(alpha=1e-05, random_state=42),\n   'clf__estimator__alpha': 1e-05,\n   'clf__estimator__loss': 'hinge',\n   'clf__estimator__tol': 0.01,\n   'tfidf__min_df': 1,\n   'tfidf__ngram_range': (1, 3)},\n  {'clf__estimator': SGDClassifier(alpha=1e-05, random_state=42),\n   'clf__estimator__alpha': 1e-05,\n   'clf__estimator__loss': 'hinge',\n   'clf__estimator__tol': 0.01,\n   'tfidf__min_df': 1,\n   'tfidf__ngram_range': (1, 4)},\n  {'clf__estimator': SGDClassifier(alpha=1e-05, random_state=42),\n   'clf__estimator__alpha': 1e-05,\n   'clf__estimator__loss': 'hinge',\n   'clf__estimator__tol': 0.01,\n   'tfidf__min_df': 1,\n   'tfidf__ngram_range': (1, 5)},\n  {'clf__estimator': SGDClassifier(alpha=1e-05, random_state=42),\n   'clf__estimator__alpha': 1e-05,\n   'clf__estimator__loss': 'hinge',\n   'clf__estimator__tol': 0.001,\n   'tfidf__min_df': 1,\n   'tfidf__ngram_range': (1, 3)},\n  {'clf__estimator': SGDClassifier(alpha=1e-05, random_state=42),\n   'clf__estimator__alpha': 1e-05,\n   'clf__estimator__loss': 'hinge',\n   'clf__estimator__tol': 0.001,\n   'tfidf__min_df': 1,\n   'tfidf__ngram_range': (1, 4)},\n  {'clf__estimator': SGDClassifier(alpha=1e-05, random_state=42),\n   'clf__estimator__alpha': 1e-05,\n   'clf__estimator__loss': 'hinge',\n   'clf__estimator__tol': 0.001,\n   'tfidf__min_df': 1,\n   'tfidf__ngram_range': (1, 5)},\n  {'clf__estimator': SGDClassifier(alpha=1e-05, random_state=42),\n   'clf__estimator__alpha': 1e-05,\n   'clf__estimator__loss': 'log',\n   'clf__estimator__tol': 0.01,\n   'tfidf__min_df': 1,\n   'tfidf__ngram_range': (1, 3)},\n  {'clf__estimator': SGDClassifier(alpha=1e-05, random_state=42),\n   'clf__estimator__alpha': 1e-05,\n   'clf__estimator__loss': 'log',\n   'clf__estimator__tol': 0.01,\n   'tfidf__min_df': 1,\n   'tfidf__ngram_range': (1, 4)},\n  {'clf__estimator': SGDClassifier(alpha=1e-05, random_state=42),\n   'clf__estimator__alpha': 1e-05,\n   'clf__estimator__loss': 'log',\n   'clf__estimator__tol': 0.01,\n   'tfidf__min_df': 1,\n   'tfidf__ngram_range': (1, 5)},\n  {'clf__estimator': SGDClassifier(alpha=1e-05, random_state=42),\n   'clf__estimator__alpha': 1e-05,\n   'clf__estimator__loss': 'log',\n   'clf__estimator__tol': 0.001,\n   'tfidf__min_df': 1,\n   'tfidf__ngram_range': (1, 3)},\n  {'clf__estimator': SGDClassifier(alpha=1e-05, random_state=42),\n   'clf__estimator__alpha': 1e-05,\n   'clf__estimator__loss': 'log',\n   'clf__estimator__tol': 0.001,\n   'tfidf__min_df': 1,\n   'tfidf__ngram_range': (1, 4)},\n  {'clf__estimator': SGDClassifier(alpha=1e-05, random_state=42),\n   'clf__estimator__alpha': 1e-05,\n   'clf__estimator__loss': 'log',\n   'clf__estimator__tol': 0.001,\n   'tfidf__min_df': 1,\n   'tfidf__ngram_range': (1, 5)},\n  {'clf__estimator': SGDClassifier(alpha=1e-05, random_state=42),\n   'clf__estimator__alpha': 1e-06,\n   'clf__estimator__loss': 'hinge',\n   'clf__estimator__tol': 0.01,\n   'tfidf__min_df': 1,\n   'tfidf__ngram_range': (1, 3)},\n  {'clf__estimator': SGDClassifier(alpha=1e-05, random_state=42),\n   'clf__estimator__alpha': 1e-06,\n   'clf__estimator__loss': 'hinge',\n   'clf__estimator__tol': 0.01,\n   'tfidf__min_df': 1,\n   'tfidf__ngram_range': (1, 4)},\n  {'clf__estimator': SGDClassifier(alpha=1e-05, random_state=42),\n   'clf__estimator__alpha': 1e-06,\n   'clf__estimator__loss': 'hinge',\n   'clf__estimator__tol': 0.01,\n   'tfidf__min_df': 1,\n   'tfidf__ngram_range': (1, 5)},\n  {'clf__estimator': SGDClassifier(alpha=1e-05, random_state=42),\n   'clf__estimator__alpha': 1e-06,\n   'clf__estimator__loss': 'hinge',\n   'clf__estimator__tol': 0.001,\n   'tfidf__min_df': 1,\n   'tfidf__ngram_range': (1, 3)},\n  {'clf__estimator': SGDClassifier(alpha=1e-05, random_state=42),\n   'clf__estimator__alpha': 1e-06,\n   'clf__estimator__loss': 'hinge',\n   'clf__estimator__tol': 0.001,\n   'tfidf__min_df': 1,\n   'tfidf__ngram_range': (1, 4)},\n  {'clf__estimator': SGDClassifier(alpha=1e-05, random_state=42),\n   'clf__estimator__alpha': 1e-06,\n   'clf__estimator__loss': 'hinge',\n   'clf__estimator__tol': 0.001,\n   'tfidf__min_df': 1,\n   'tfidf__ngram_range': (1, 5)},\n  {'clf__estimator': SGDClassifier(alpha=1e-05, random_state=42),\n   'clf__estimator__alpha': 1e-06,\n   'clf__estimator__loss': 'log',\n   'clf__estimator__tol': 0.01,\n   'tfidf__min_df': 1,\n   'tfidf__ngram_range': (1, 3)},\n  {'clf__estimator': SGDClassifier(alpha=1e-05, random_state=42),\n   'clf__estimator__alpha': 1e-06,\n   'clf__estimator__loss': 'log',\n   'clf__estimator__tol': 0.01,\n   'tfidf__min_df': 1,\n   'tfidf__ngram_range': (1, 4)},\n  {'clf__estimator': SGDClassifier(alpha=1e-05, random_state=42),\n   'clf__estimator__alpha': 1e-06,\n   'clf__estimator__loss': 'log',\n   'clf__estimator__tol': 0.01,\n   'tfidf__min_df': 1,\n   'tfidf__ngram_range': (1, 5)},\n  {'clf__estimator': SGDClassifier(alpha=1e-05, random_state=42),\n   'clf__estimator__alpha': 1e-06,\n   'clf__estimator__loss': 'log',\n   'clf__estimator__tol': 0.001,\n   'tfidf__min_df': 1,\n   'tfidf__ngram_range': (1, 3)},\n  {'clf__estimator': SGDClassifier(alpha=1e-05, random_state=42),\n   'clf__estimator__alpha': 1e-06,\n   'clf__estimator__loss': 'log',\n   'clf__estimator__tol': 0.001,\n   'tfidf__min_df': 1,\n   'tfidf__ngram_range': (1, 4)},\n  {'clf__estimator': SGDClassifier(alpha=1e-05, random_state=42),\n   'clf__estimator__alpha': 1e-06,\n   'clf__estimator__loss': 'log',\n   'clf__estimator__tol': 0.001,\n   'tfidf__min_df': 1,\n   'tfidf__ngram_range': (1, 5)}],\n 'split0_test_score': array([0.93227585, 0.93265084, 0.93265084, 0.93317584, 0.93313834,\n        0.93253834, 0.920051  , 0.91847602, 0.91701354, 0.92170098,\n        0.9201635 , 0.91903851, 0.93006337, 0.93047587, 0.93051337,\n        0.93051337, 0.93040087, 0.93115086, 0.93021337, 0.92991338,\n        0.92916339, 0.93021337, 0.92991338, 0.92916339]),\n 'split1_test_score': array([0.93351333, 0.93373833, 0.93265084, 0.93433832, 0.93385083,\n        0.93295084, 0.92188848, 0.9201635 , 0.91847602, 0.92260097,\n        0.92095099, 0.91948851, 0.93250084, 0.93238835, 0.93205085,\n        0.93287584, 0.93201335, 0.93118836, 0.93186335, 0.93088836,\n        0.92972588, 0.93186335, 0.93088836, 0.92972588]),\n 'split2_test_score': array([0.92893572, 0.92991075, 0.92964824, 0.92889822, 0.92949824,\n        0.93006075, 0.91896047, 0.91656041, 0.91498537, 0.91911048,\n        0.91644791, 0.91476037, 0.92691067, 0.92919823, 0.92739818,\n        0.92882322, 0.92863572, 0.92822321, 0.92736068, 0.92668567,\n        0.92612315, 0.92736068, 0.92668567, 0.92612315]),\n 'mean_test_score': array([0.93157497, 0.93209997, 0.93164997, 0.93213746, 0.93216247,\n        0.93184998, 0.92029998, 0.91839998, 0.91682498, 0.92113747,\n        0.91918747, 0.91776246, 0.92982496, 0.93068748, 0.92998747,\n        0.93073748, 0.93034998, 0.93018748, 0.92981247, 0.92916247,\n        0.92833747, 0.92981247, 0.92916247, 0.92833747]),\n 'std_test_score': array([0.0019334 , 0.00161042, 0.00141544, 0.00233914, 0.00190622,\n        0.00127633, 0.00120825, 0.00147194, 0.00143127, 0.00147965,\n        0.00196365, 0.00213074, 0.0022884 , 0.00131093, 0.0019355 ,\n        0.00166205, 0.00137938, 0.00138903, 0.00185994, 0.00179603,\n        0.00158251, 0.00185994, 0.00179603, 0.00158251]),\n 'rank_test_score': array([ 6,  3,  5,  2,  1,  4, 20, 22, 24, 19, 21, 23, 12,  8, 11,  7,  9,\n        10, 13, 15, 17, 13, 15, 17])}"
     },
     "execution_count": 94,
     "metadata": {},
     "output_type": "execute_result"
    }
   ],
   "source": [
    "\n",
    "pipeline = Pipeline([\n",
    "    (\"tfidf\", TfidfVectorizer(tokenizer=LemmaTokenizer(), binary=True)),\n",
    "    ('clf', ClfSwitcher()),\n",
    "])\n",
    "\n",
    "\n",
    "parameters = [\n",
    "    {\n",
    "        \"tfidf__min_df\" : [1],\n",
    "        \"tfidf__ngram_range\" : [(1,4)],\n",
    "        'clf__estimator': [SGDClassifier(random_state=42)],\n",
    "        'clf__estimator__tol': [1e-3],\n",
    "        'clf__estimator__alpha': [1e-5],\n",
    "        'clf__estimator__loss': ['hinge'],\n",
    "    },\n",
    "]\n",
    "\n",
    "gscv = GridSearchCV(pipeline, parameters, cv=3, n_jobs=-1, return_train_score=False, verbose=5)\n",
    "gscv.fit(X_train, training_set['class'])\n",
    "\n",
    "gscv.cv_results_"
   ],
   "metadata": {
    "collapsed": false,
    "pycharm": {
     "name": "#%%\n"
    }
   }
  },
  {
   "cell_type": "code",
   "execution_count": 95,
   "outputs": [],
   "source": [
    "# TODO function wrapper\n",
    "\n",
    "results = pd.DataFrame(gscv.cv_results_)\n",
    "results = results[['param_clf__estimator','param_clf__estimator__alpha','param_clf__estimator__tol','param_clf__estimator__loss','param_tfidf__min_df',\t'param_tfidf__ngram_range','mean_test_score']]\n",
    "results = results.sort_values(by=['mean_test_score'], ascending=False)\n",
    "\n",
    "results.to_excel(\"results_pipeline_SGDdesc#2.xlsx\")"
   ],
   "metadata": {
    "collapsed": false,
    "pycharm": {
     "name": "#%%\n"
    }
   }
  },
  {
   "cell_type": "code",
   "execution_count": 96,
   "outputs": [],
   "source": [
    "\n",
    "## TODO function wrapper\n",
    "predictions = gscv.predict(X_test)\n",
    "pred = pd.DataFrame()\n",
    "pred.insert(0, \"Predicted\", predictions, True)\n",
    "\n",
    "pred.to_csv('submission_SGDdesc#2.csv',sep=',', index_label='Id')\n",
    "\n",
    "\n",
    "\n"
   ],
   "metadata": {
    "collapsed": false,
    "pycharm": {
     "name": "#%%\n"
    }
   }
  }
 ],
 "metadata": {
  "kernelspec": {
   "display_name": "Python 3",
   "language": "python",
   "name": "python3"
  },
  "language_info": {
   "codemirror_mode": {
    "name": "ipython",
    "version": 2
   },
   "file_extension": ".py",
   "mimetype": "text/x-python",
   "name": "python",
   "nbconvert_exporter": "python",
   "pygments_lexer": "ipython2",
   "version": "2.7.6"
  }
 },
 "nbformat": 4,
 "nbformat_minor": 0
}