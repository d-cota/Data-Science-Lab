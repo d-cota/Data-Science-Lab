{
 "cells": [
  {
   "cell_type": "code",
   "execution_count": 4,
   "metadata": {
    "collapsed": true,
    "pycharm": {
     "name": "#%% 2.2.1 Load the previously downloaded Citybik.es dataset as a Python dictionary\n"
    }
   },
   "outputs": [
    {
     "data": {
      "text/plain": "dict"
     },
     "execution_count": 4,
     "metadata": {},
     "output_type": "execute_result"
    }
   ],
   "source": [
    "import requests\n",
    "\n",
    "r = requests.get(url = 'http://api.citybik.es/v2/networks/to-bike')\n",
    "\n",
    "data = r.json()\n",
    "\n",
    "data"
   ]
  },
  {
   "cell_type": "code",
   "execution_count": 10,
   "outputs": [
    {
     "data": {
      "text/plain": "145"
     },
     "execution_count": 10,
     "metadata": {},
     "output_type": "execute_result"
    }
   ],
   "source": [
    "online = 0\n",
    "for s in data['network']['stations']:\n",
    "    if s['extra']['status'] == 'online': online += 1\n",
    "\n",
    "online\n"
   ],
   "metadata": {
    "collapsed": false,
    "pycharm": {
     "name": "#%% 2.2.2 Count and print the number of active stations (a station is active if itsextra.statusfield is\"online\")\n"
    }
   }
  },
  {
   "cell_type": "code",
   "execution_count": 11,
   "outputs": [
    {
     "data": {
      "text/plain": "(354, 834)"
     },
     "execution_count": 11,
     "metadata": {},
     "output_type": "execute_result"
    }
   ],
   "source": [
    "free_bikes = 0\n",
    "empty_slots = 0\n",
    "for s in data['network']['stations']:\n",
    "    free_bikes += s['free_bikes']\n",
    "    empty_slots += s['empty_slots']\n",
    "\n",
    "free_bikes, empty_slots"
   ],
   "metadata": {
    "collapsed": false,
    "pycharm": {
     "name": "#%% 2.2.3 Count and print the total number of bikes available (fieldfree_bikes) and the number of free docks(fieldempty_slots) throughout all stations.\n"
    }
   }
  }
 ],
 "metadata": {
  "kernelspec": {
   "display_name": "Python 3",
   "language": "python",
   "name": "python3"
  },
  "language_info": {
   "codemirror_mode": {
    "name": "ipython",
    "version": 2
   },
   "file_extension": ".py",
   "mimetype": "text/x-python",
   "name": "python",
   "nbconvert_exporter": "python",
   "pygments_lexer": "ipython2",
   "version": "2.7.6"
  }
 },
 "nbformat": 4,
 "nbformat_minor": 0
}