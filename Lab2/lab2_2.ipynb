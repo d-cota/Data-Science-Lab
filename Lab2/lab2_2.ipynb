{
 "cells": [
  {
   "cell_type": "code",
   "execution_count": 6,
   "metadata": {
    "collapsed": true,
    "pycharm": {
     "name": "#%% 2.2.1 Load the IMDb dataset as a list of lists.\n"
    }
   },
   "outputs": [],
   "source": [
    "import csv\n",
    "\n",
    "reviews = []\n",
    "labels = []\n",
    "with open('aclimdb_reviews_train.txt', encoding='utf8') as f:\n",
    "    next(csv.reader(f))\n",
    "    for row in csv.reader(f):\n",
    "        reviews.append(row[0])\n",
    "        labels.append(row[1])"
   ]
  },
  {
   "cell_type": "code",
   "execution_count": 7,
   "outputs": [
    {
     "data": {
      "text/plain": "['for',\n 'a',\n 'movie',\n 'that',\n 'gets',\n 'no',\n 'respect',\n 'there',\n 'sure',\n 'are',\n 'a',\n 'lot',\n 'of',\n 'memorable',\n 'quotes',\n 'listed',\n 'for',\n 'this',\n 'gem',\n 'imagine',\n 'a',\n 'movie',\n 'where',\n 'joe',\n 'piscopo',\n 'is',\n 'actually',\n 'funny',\n 'maureen',\n 'stapleton',\n 'is',\n 'a',\n 'scene',\n 'stealer',\n 'the',\n 'moroni',\n 'character',\n 'is',\n 'an',\n 'absolute',\n 'scream',\n 'watch',\n 'for',\n 'alan',\n 'the',\n 'skipper',\n 'hale',\n 'jr',\n 'as',\n 'a',\n 'police',\n 'sgt']"
     },
     "execution_count": 7,
     "metadata": {},
     "output_type": "execute_result"
    }
   ],
   "source": [
    "import string\n",
    "\n",
    "def tokenize(docs):\n",
    "    \"\"\"Compute the tokens for each document.\n",
    "    Input: a list of strings. Each item is a document to tokenize.\n",
    "    Output: a list of lists. Each item is a list containing the tokens of the\n",
    "    relative document.\n",
    "    \"\"\"\n",
    "    tokens = []\n",
    "    for doc in docs:\n",
    "        for punct in string.punctuation:\n",
    "            doc = doc.replace(punct, \" \")\n",
    "        split_doc = [ token.lower() for token in doc.split(\" \") if token ]\n",
    "        tokens.append(split_doc)\n",
    "    return tokens\n",
    "\n",
    "tokenized = tokenize(reviews)\n",
    "\n",
    "tokenized[0]"
   ],
   "metadata": {
    "collapsed": false,
    "pycharm": {
     "name": "#%% 2.2.2 Apply the tokenization function listed below to your reviews.\n"
    }
   }
  },
  {
   "cell_type": "code",
   "execution_count": null,
   "outputs": [],
   "source": [
    "\n"
   ],
   "metadata": {
    "collapsed": false,
    "pycharm": {
     "name": "#%%\n"
    }
   }
  }
 ],
 "metadata": {
  "kernelspec": {
   "display_name": "Python 3",
   "language": "python",
   "name": "python3"
  },
  "language_info": {
   "codemirror_mode": {
    "name": "ipython",
    "version": 2
   },
   "file_extension": ".py",
   "mimetype": "text/x-python",
   "name": "python",
   "nbconvert_exporter": "python",
   "pygments_lexer": "ipython2",
   "version": "2.7.6"
  }
 },
 "nbformat": 4,
 "nbformat_minor": 0
}