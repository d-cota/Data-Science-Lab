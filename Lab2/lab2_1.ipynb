{
 "cells": [
  {
   "cell_type": "code",
   "execution_count": 10,
   "metadata": {
    "collapsed": true,
    "pycharm": {
     "name": "#%% 2.1.1 Load the Global Land Temperature dataset as a list of lists.\n"
    }
   },
   "outputs": [],
   "source": [
    "import csv\n",
    "import matplotlib.pyplot as plt\n",
    "%matplotlib inline\n",
    "\n",
    "wrapper = []\n",
    "with open('GLT_filtered.csv') as f:\n",
    "    next(csv.reader(f))\n",
    "    for row in csv.reader(f):\n",
    "        if not row:\n",
    "            continue\n",
    "        temp = []\n",
    "        for item in row:\n",
    "            try:\n",
    "                temp.append(float(item))\n",
    "            except ValueError:\n",
    "                temp.append(item)\n",
    "        wrapper.append(temp)"
   ]
  },
  {
   "cell_type": "code",
   "execution_count": 11,
   "outputs": [],
   "source": [
    "def mean(x, y):\n",
    "    return float((x + y) / 2)\n",
    "\n",
    "\n",
    "for i in range(len(wrapper)):\n",
    "    row = wrapper[i]\n",
    "    if not row[1]:\n",
    "        j = i + 1\n",
    "        try:\n",
    "            while not wrapper[j][1]:\n",
    "                j += 1\n",
    "            y = wrapper[j][1]\n",
    "        except IndexError:\n",
    "            y = 0\n",
    "        if i == 0: x = 0\n",
    "        else:\n",
    "            x = wrapper[i - 1][1]\n",
    "        wrapper[i][1] = mean(x, y)"
   ],
   "metadata": {
    "collapsed": false,
    "pycharm": {
     "name": "#%% 2.1.2 Fill any gap of AverageTemperature attribute with the arithmetic mean among the closest antecedent and the closest successive measurements in time, taken in the same city.\n"
    }
   }
  },
  {
   "cell_type": "code",
   "execution_count": 12,
   "outputs": [
    {
     "data": {
      "text/plain": "([['1998-03-01', 29.923, 0.537, 'Abidjan', \"CÃ´te D'Ivoire\", '5.63N', '3.23W'],\n  ['2010-03-01', 29.596, 0.555, 'Abidjan', \"CÃ´te D'Ivoire\", '5.63N', '3.23W'],\n  ['1998-02-01',\n   29.477,\n   0.152,\n   'Abidjan',\n   \"CÃ´te D'Ivoire\",\n   '5.63N',\n   '3.23W']],\n [['1887-08-01', 22.528, 0.836, 'Abidjan', \"CÃ´te D'Ivoire\", '5.63N', '3.23W'],\n  ['1891-08-01', 22.377, 0.715, 'Abidjan', \"CÃ´te D'Ivoire\", '5.63N', '3.23W'],\n  ['1890-08-01',\n   22.363000000000003,\n   0.9420000000000001,\n   'Abidjan',\n   \"CÃ´te D'Ivoire\",\n   '5.63N',\n   '3.23W']])"
     },
     "execution_count": 12,
     "metadata": {},
     "output_type": "execute_result"
    }
   ],
   "source": [
    "def find_top(city, N):\n",
    "    l = list(filter(lambda item: item[3] == city ,sorted(wrapper, key=lambda x: x[1], reverse=True)))\n",
    "    return l[:N], l[-N:]\n",
    "\n",
    "hottest, coldest = find_top('Abidjan', 3)\n",
    "hottest, coldest"
   ],
   "metadata": {
    "collapsed": false,
    "pycharm": {
     "name": "#%% 2.1.3 Define a function that, given the name of a city and an integer N > 0, prints: (a) the top N hottest measurements; (b) the top N coldest measurements\n"
    }
   }
  },
  {
   "cell_type": "code",
   "execution_count": 13,
   "outputs": [
    {
     "data": {
      "text/plain": "<Figure size 432x288 with 1 Axes>",
      "image/png": "[encoded data removed]"
     },
     "metadata": {
      "needs_background": "light"
     },
     "output_type": "display_data"
    }
   ],
   "source": [
    "rome_distribution = list(map(lambda x: x[1], (filter(lambda x: x[3] == 'Rome', wrapper))))\n",
    "bangkok_distribution = list(map(lambda x: x[1], (filter(lambda x: x[3] == 'Bangkok', wrapper))))\n",
    "\n",
    "plt.hist(rome_distribution, label='Rome')\n",
    "plt.hist(bangkok_distribution, label='Bangkok')\n",
    "plt.title('Temperature distribution of Rome and Bangkok')\n",
    "plt.legend()\n",
    "plt.show()"
   ],
   "metadata": {
    "collapsed": false,
    "pycharm": {
     "name": "#%% 2.1.4 Plot the distribution of the average land temperatures for Rome and Bangkok using the aforementioned histogram plotting function.\n"
    }
   }
  },
  {
   "cell_type": "raw",
   "source": [
    "We can see that Bangkok measurements are in Fahrenheit, needs further preprocessing."
   ],
   "metadata": {
    "collapsed": false
   }
  },
  {
   "cell_type": "code",
   "execution_count": 14,
   "outputs": [
    {
     "data": {
      "text/plain": "<Figure size 432x288 with 1 Axes>",
      "image/png": "[encoded data removed]"
     },
     "metadata": {
      "needs_background": "light"
     },
     "output_type": "display_data"
    }
   ],
   "source": [
    "bangkok_distribution = list(map(lambda x: (x - 32) / 1.8, bangkok_distribution))\n",
    "\n",
    "plt.hist(rome_distribution, label='Rome')\n",
    "plt.hist(bangkok_distribution, label='Bangkok')\n",
    "plt.title('Temperature distribution of Rome and Bangkok')\n",
    "plt.legend()\n",
    "plt.show()"
   ],
   "metadata": {
    "collapsed": false,
    "pycharm": {
     "name": "#%%\n"
    }
   }
  }
 ],
 "metadata": {
  "kernelspec": {
   "display_name": "Python 3",
   "language": "python",
   "name": "python3"
  },
  "language_info": {
   "codemirror_mode": {
    "name": "ipython",
    "version": 2
   },
   "file_extension": ".py",
   "mimetype": "text/x-python",
   "name": "python",
   "nbconvert_exporter": "python",
   "pygments_lexer": "ipython2",
   "version": "2.7.6"
  }
 },
 "nbformat": 4,
 "nbformat_minor": 0
}